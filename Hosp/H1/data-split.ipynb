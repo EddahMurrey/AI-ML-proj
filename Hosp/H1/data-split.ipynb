{
 "cells": [
  {
   "cell_type": "code",
   "execution_count": 10,
   "id": "807799d1-d7c9-4d54-9458-cdd43469723a",
   "metadata": {},
   "outputs": [],
   "source": [
    "import os\n",
    "import shutil\n",
    "import random"
   ]
  },
  {
   "cell_type": "code",
   "execution_count": 16,
   "id": "6d74d515-434d-4894-a179-69ec71fa37b8",
   "metadata": {},
   "outputs": [],
   "source": [
    "root = 'H1'\n",
    "\n",
    "dest_path = [\"H1/S1\",\"H1/S2\",\"H1/S3\"]\n",
    "\n",
    "files_list = []\n",
    "\n",
    "for root, dirs, files in os.walk('H1/data'):\n",
    "    for file in files:\n",
    "          if file.endswith(\".png\"):\n",
    "            files_list.append(os.path.join(root, file))\n",
    "\n",
    "filesToCopy = random.sample(files_list, 50) \n",
    "\n",
    "if os.path.isdir(dest_path) == False:\n",
    "    os.makedirs(dest_path)\n",
    "\n",
    "for file in filesToCopy:\n",
    "    shutil.move(file, dest_path)\n",
    "    "
   ]
  }
 ],
 "metadata": {
  "kernelspec": {
   "display_name": "Python 3 (ipykernel)",
   "language": "python",
   "name": "python3"
  },
  "language_info": {
   "codemirror_mode": {
    "name": "ipython",
    "version": 3
   },
   "file_extension": ".py",
   "mimetype": "text/x-python",
   "name": "python",
   "nbconvert_exporter": "python",
   "pygments_lexer": "ipython3",
   "version": "3.9.12"
  }
 },
 "nbformat": 4,
 "nbformat_minor": 5
}
